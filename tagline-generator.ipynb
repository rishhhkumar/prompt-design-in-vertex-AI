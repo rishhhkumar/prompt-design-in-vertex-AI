{
 "cells": [
  {
   "cell_type": "code",
   "execution_count": 8,
   "id": "72233520-a86c-4f01-85b4-ca7d60c9bdf7",
   "metadata": {
    "tags": []
   },
   "outputs": [
    {
     "name": "stdout",
     "output_type": "stream",
     "text": [
      "Nature Awaits: Explore\n",
      " in Style.\n",
      "\n"
     ]
    }
   ],
   "source": [
    "from vertexai.preview.generative_models import GenerativeModel\n",
    "\n",
    "model = GenerativeModel(\"gemini-1.0-pro\")\n",
    "\n",
    "prompt = \"\"\"\n",
    "Cymbal Direct is partnering with an outdoor gear retailer. They\\'re launching a new line of products designed to encourage young people to explore the outdoors. Help them create catchy taglines for this product line.\n",
    "\n",
    "input: Write a tagline for a lightweight backpack designed for hikers with families that makes them feel prepared. Consider styles like colorful and bold.\n",
    "output: Family Fun, Packed Light: Adventures Start Here.\n",
    "\n",
    "input: Write a tagline for a weatherproof and waterproof backpack designed for young hikers. Consider styles like military to make them feel empowered.\n",
    "output: Unleash Your Inner Explorer: Gear for the Wild.\n",
    "\n",
    "input: Write a tagline, that includes the keyword 'nature', for a highly functional backpack designed for young adventurers. Consider styles like modern and chic to retain the aesthetics.\n",
    "output:\n",
    "\"\"\"\n",
    "\n",
    "responses = model.generate_content(\n",
    "    prompt,\n",
    "    generation_config={\n",
    "        \"temperature\": 0,\n",
    "        \"max_output_tokens\": 2048,\n",
    "        \"top_p\": 0.4,\n",
    "        \"top_k\": 40,\n",
    "    },\n",
    "    stream=True\n",
    "    )\n",
    "\n",
    "for response in responses:\n",
    "    print(response.text)"
   ]
  },
  {
   "cell_type": "code",
   "execution_count": null,
   "id": "f24da9b0-a83e-4f5d-965b-704fc43dbedc",
   "metadata": {},
   "outputs": [],
   "source": []
  }
 ],
 "metadata": {
  "environment": {
   "kernel": "conda-base-py",
   "name": "tf2-cpu.2-15.m121",
   "type": "gcloud",
   "uri": "us-docker.pkg.dev/deeplearning-platform-release/gcr.io/tf2-cpu.2-15:m121"
  },
  "kernelspec": {
   "display_name": "Python [conda env:base] * (Local)",
   "language": "python",
   "name": "conda-base-py"
  },
  "language_info": {
   "codemirror_mode": {
    "name": "ipython",
    "version": 3
   },
   "file_extension": ".py",
   "mimetype": "text/x-python",
   "name": "python",
   "nbconvert_exporter": "python",
   "pygments_lexer": "ipython3",
   "version": "3.10.14"
  }
 },
 "nbformat": 4,
 "nbformat_minor": 5
}
